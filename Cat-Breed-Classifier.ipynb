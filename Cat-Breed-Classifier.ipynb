{
 "cells": [
  {
   "cell_type": "markdown",
   "metadata": {},
   "source": [
    "# Cat-Breed Classifier Using CNN"
   ]
  },
  {
   "cell_type": "code",
   "execution_count": 1,
   "metadata": {},
   "outputs": [],
   "source": [
    "import os\n",
    "import zipfile\n"
   ]
  },
  {
   "cell_type": "code",
   "execution_count": null,
   "metadata": {},
   "outputs": [],
   "source": [
    "base_dir='/dataset'\n",
    "training_dir=os.path.join(base_dir, 'training')\n",
    "validation_dir=os.path.join(base_dir, 'validation')\n",
    "\n",
    "train_abyssian_dir=os.path.join(training_dir,'abyssian')\n",
    "train_munchkin_dir=os.path.join(training_dir,'munchkin')\n",
    "train_abyssian_dir=os.path.join(training_dir,'abyssian')\n",
    "train_munchkin_dir=os.path.join(training_dir,'munchkin')\n"
   ]
  }
 ],
 "metadata": {
  "kernelspec": {
   "display_name": "Python 3",
   "language": "python",
   "name": "python3"
  },
  "language_info": {
   "codemirror_mode": {
    "name": "ipython",
    "version": 3
   },
   "file_extension": ".py",
   "mimetype": "text/x-python",
   "name": "python",
   "nbconvert_exporter": "python",
   "pygments_lexer": "ipython3",
   "version": "3.6.9"
  }
 },
 "nbformat": 4,
 "nbformat_minor": 4
}
